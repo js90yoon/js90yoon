{
 "cells": [
  {
   "cell_type": "code",
   "execution_count": 50,
   "metadata": {},
   "outputs": [],
   "source": [
    "import numpy as np\n",
    "import h5py\n",
    "\n",
    "# File load\n",
    "f = h5py.File('C:/Users/Gram/Documents/MATLAB/anaconda.hdf5', 'r')"
   ]
  },
  {
   "cell_type": "code",
   "execution_count": 51,
   "metadata": {},
   "outputs": [
    {
     "data": {
      "text/plain": [
       "['myDataset1']"
      ]
     },
     "execution_count": 51,
     "metadata": {},
     "output_type": "execute_result"
    }
   ],
   "source": [
    "list(f.keys())"
   ]
  },
  {
   "cell_type": "code",
   "execution_count": 90,
   "metadata": {},
   "outputs": [],
   "source": [
    "temp = f['myDataset1']#.value.view(np.double)\n",
    "# Transform numpy (array)\n",
    "AAA = np.array(temp[:,:,:])\n",
    "\n",
    "# exchanges array shapes (3,640,353) -> (353,640,3)\n",
    "AAA = np.transpose(AAA, [2,1,0])\n",
    "BBB = AAA*1000\n",
    "CCC = np.transpose(BBB, [0,1,2])"
   ]
  },
  {
   "cell_type": "code",
   "execution_count": 92,
   "metadata": {},
   "outputs": [],
   "source": [
    "DDD = AAA*CCC"
   ]
  },
  {
   "cell_type": "code",
   "execution_count": 95,
   "metadata": {},
   "outputs": [],
   "source": [
    "s = h5py.File('C:/Users/Gram/Documents/MATLAB/write_anaconda.hdf5','w')\n",
    "s.create_dataset('dataset_1', data=AAA)\n",
    "s.close()"
   ]
  },
  {
   "cell_type": "code",
   "execution_count": 98,
   "metadata": {},
   "outputs": [
    {
     "name": "stdout",
     "output_type": "stream",
     "text": [
      "Variable   Type       Data/Info\n",
      "-------------------------------\n",
      "AAA        ndarray    353x640x3: 677760 elems, type `float64`, 5422080 bytes (5.1708984375 Mb)\n",
      "BBB        ndarray    353x640x3: 677760 elems, type `float64`, 5422080 bytes (5.1708984375 Mb)\n",
      "CCC        ndarray    353x640x3: 677760 elems, type `float64`, 5422080 bytes (5.1708984375 Mb)\n",
      "DDD        ndarray    353x640x3: 677760 elems, type `float64`, 5422080 bytes (5.1708984375 Mb)\n",
      "data       ndarray    3x640x353: 677760 elems, type `float64`, 5422080 bytes (5.1708984375 Mb)\n",
      "dataset    list       n=0\n",
      "f          File       <HDF5 file \"anaconda.hdf5\" (mode r)>\n",
      "h5py       module     <module 'h5py' from 'C:\\\\<...>ages\\\\h5py\\\\__init__.py'>\n",
      "np         module     <module 'numpy' from 'C:\\<...>ges\\\\numpy\\\\__init__.py'>\n",
      "s          File       <Closed HDF5 file>\n",
      "temp       Dataset    <HDF5 dataset \"myDataset1<...>3, 640, 353), type \"<f8\">\n"
     ]
    }
   ],
   "source": [
    "whos"
   ]
  },
  {
   "cell_type": "code",
   "execution_count": null,
   "metadata": {},
   "outputs": [],
   "source": []
  }
 ],
 "metadata": {
  "kernelspec": {
   "display_name": "Python 3",
   "language": "python",
   "name": "python3"
  },
  "language_info": {
   "codemirror_mode": {
    "name": "ipython",
    "version": 3
   },
   "file_extension": ".py",
   "mimetype": "text/x-python",
   "name": "python",
   "nbconvert_exporter": "python",
   "pygments_lexer": "ipython3",
   "version": "3.7.3"
  }
 },
 "nbformat": 4,
 "nbformat_minor": 2
}
